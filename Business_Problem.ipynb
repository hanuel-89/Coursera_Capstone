{
    "nbformat_minor": 1, 
    "cells": [
        {
            "source": "# THE PROBLEM - WHERE WILL I SITE AN ASIAN RESTAURANT IN DUBAI CITY?", 
            "cell_type": "markdown", 
            "metadata": {
                "collapsed": true
            }
        }, 
        {
            "source": "### <u>Background of the problem</u>", 
            "cell_type": "markdown", 
            "metadata": {}
        }, 
        {
            "source": "<font size = <b>In the city of Dubai, there are thousands of tourists who have come to see the amazing city for its shear beauty. These tourists are from different nationals and have cuisines which are specific to them.For example, asians will prefer to go eat in restaurants that specialize in making asian cuisines rather than eating in a restaurant that deals with different kinds of cuisines. To this end, the problem i intend to solve is deciding the best location where i can site my asian cuisine restaurant, and if possible, also propose hotel locations that are close to the proposed restaurant site.</b>", 
            "cell_type": "markdown", 
            "metadata": {}
        }, 
        {
            "source": "### <u>Data for the problem</u>", 
            "cell_type": "markdown", 
            "metadata": {}
        }, 
        {
            "source": "To solve the stated problem, i will be using Foursquare's location data which will be accessed using their GET API. The kind of data i will be accessing include:\n<br><br>\n<li>Restaurants in Dubai City</li>\n<li>Hotels around specific locations</li>\n<li>Asian restaurants</li>\n<br>\nWith these data, i can determine the best location to site a new asian restaurant by clustering the restaurant data and determing the cluster with least number of restaurants where asian cuisines are being sold.\nAlso, with the data, i can explore hotels around the chosen sites, and propose them as the hotel of choice for asian tourists that are coming into Dubai city.", 
            "cell_type": "markdown", 
            "metadata": {}
        }, 
        {
            "execution_count": null, 
            "cell_type": "code", 
            "metadata": {}, 
            "outputs": [], 
            "source": ""
        }
    ], 
    "metadata": {
        "kernelspec": {
            "display_name": "Python 3.6", 
            "name": "python3", 
            "language": "python"
        }, 
        "language_info": {
            "mimetype": "text/x-python", 
            "nbconvert_exporter": "python", 
            "version": "3.6.8", 
            "name": "python", 
            "file_extension": ".py", 
            "pygments_lexer": "ipython3", 
            "codemirror_mode": {
                "version": 3, 
                "name": "ipython"
            }
        }
    }, 
    "nbformat": 4
}
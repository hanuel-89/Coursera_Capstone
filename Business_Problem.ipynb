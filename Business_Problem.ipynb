{
    "nbformat_minor": 1, 
    "cells": [
        {
            "source": "# THE ASAIN TOURIST IN PARIS PROBLEM", 
            "cell_type": "markdown", 
            "metadata": {
                "collapsed": true
            }
        }, 
        {
            "source": "### THE PROBLEM - WHICH AirBnB APARTMENT SHOULD AN ASIAN CHOOSE TO RESIDE DURING A VISIT TO PARIS CITY?", 
            "cell_type": "markdown", 
            "metadata": {}
        }, 
        {
            "source": "### <u>Background of the problem</u>", 
            "cell_type": "markdown", 
            "metadata": {}
        }, 
        {
            "source": "<font size = 3>In the city of Paris, there are thousands of tourists who have come to see the amazing city for its shear beauty. These tourists are from different nationals and have cuisines which are specific to them. For example, asians will prefer to go eat in restaurants that specialize in making asian cuisines rather than eating in a restaurant that deals with different kinds of cuisines. \nTo this end, the problem i intend to solve is deciding the best AirBnB apartment locations where Asian tourists can reside during a tourist visit to the city of Paris. By choosing the best AirBnB private rooms which are situated close to asian cuisine restaurant, Asian tourists can have a more vivid experience of the city of Paris.</font>", 
            "cell_type": "markdown", 
            "metadata": {}
        }, 
        {
            "source": "### <u>Data for the problem</u>", 
            "cell_type": "markdown", 
            "metadata": {}
        }, 
        {
            "source": "To solve the stated problem, i will be using Foursquare's location data which will be accessed using their GET API. The kind of data i will be accessing include:\n<br><br>\n<li>Restaurants in Paris city</li>\n<li>Fun places around specific locations</li>\n<li>Asian restaurants and other interesting places around these restaurants</li>\n<br>\nAlso, i will be utilizing data from http://public.opendatasoft.com. This data will comprise of all AirBnB private room listings in the city of Paris, their latitude and longitude, price per night, neighborhood of location and some other redundant data.\n\nWith these set of data, i can determine the best location/AirBnB property in which an asian tourist should reside in during a visit to the city of Paris by clustering the restaurant data and determing the cluster with the most number of restaurants where asian cuisines are being sold.\nAlso, with the data, i can explore AirBnB listings around the chosen sites, and propose them as the hotel of choice for asian tourists that are coming into Paris city.\n\nIf possible, i will also try to categorize the listings based on price.", 
            "cell_type": "markdown", 
            "metadata": {}
        }, 
        {
            "execution_count": null, 
            "cell_type": "code", 
            "metadata": {}, 
            "outputs": [], 
            "source": ""
        }
    ], 
    "metadata": {
        "kernelspec": {
            "display_name": "Python 3.6", 
            "name": "python3", 
            "language": "python"
        }, 
        "language_info": {
            "mimetype": "text/x-python", 
            "nbconvert_exporter": "python", 
            "version": "3.6.8", 
            "name": "python", 
            "file_extension": ".py", 
            "pygments_lexer": "ipython3", 
            "codemirror_mode": {
                "version": 3, 
                "name": "ipython"
            }
        }
    }, 
    "nbformat": 4
}